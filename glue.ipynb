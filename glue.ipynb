{
  "nbformat": 4,
  "nbformat_minor": 0,
  "metadata": {
    "colab": {
      "name": "glue-tpu.ipynb",
      "provenance": [],
      "collapsed_sections": []
    },
    "kernelspec": {
      "name": "python3",
      "display_name": "Python 3"
    },
    "accelerator": "TPU"
  },
  "cells": [
    {
      "cell_type": "code",
      "metadata": {
        "id": "hAl4a942BByg",
        "colab_type": "code",
        "colab": {}
      },
      "source": [
        "# To not lose trained results\n",
        "from google.colab import drive\n",
        "drive.mount('/content/drive')\n",
        "%cd /content/drive/My\\ Drive/"
      ],
      "execution_count": 0,
      "outputs": []
    },
    {
      "cell_type": "code",
      "metadata": {
        "colab_type": "code",
        "id": "E9uzmU1CfA7P",
        "colab": {}
      },
      "source": [
        "# Fetch code and install dependencies\n",
        "!git clone https://<username>:<token>@github.com/McSinyx/viwikipi.git\n",
        "%cd viwikipi/\n",
        "%pip install -r requirements.txt"
      ],
      "execution_count": 0,
      "outputs": []
    },
    {
      "cell_type": "code",
      "metadata": {
        "id": "sOYUeiVGLXrY",
        "colab_type": "code",
        "outputId": "f0dafb66-64ad-4a4d-9475-1bc22cf20972",
        "colab": {
          "base_uri": "https://localhost:8080/",
          "height": 34
        }
      },
      "source": [
        "# Train Bert\n",
        "!python3 tools/glue --model-type=bert --model=bert-base-multilingual-cased --output-dir=bert --log-file=bert/$(date -Is).log"
      ],
      "execution_count": 8,
      "outputs": []
    },
    {
      "cell_type": "code",
      "metadata": {
        "id": "BqdNXLWnmN_0",
        "colab_type": "code",
        "colab": {}
      },
      "source": [
        "# Train XLM\n",
        "!python3 tools/glue --model-type=xlm --model=xlm-mlm-17-1280 --output-dir=xlm-mlm --log-file=xlm-mlm/$(date -Is).log --per-gpu-train-batch-size=8"
      ],
      "execution_count": 0,
      "outputs": []
    }
  ]
}
