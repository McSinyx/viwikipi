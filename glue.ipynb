{
  "nbformat": 4,
  "nbformat_minor": 0,
  "metadata": {
    "colab": {
      "name": "glue-tpu.ipynb",
      "provenance": [],
      "collapsed_sections": []
    },
    "kernelspec": {
      "name": "python3",
      "display_name": "Python 3"
    },
    "accelerator": "TPU"
  },
  "cells": [
    {
      "cell_type": "code",
      "metadata": {
        "id": "hAl4a942BByg",
        "colab_type": "code",
        "colab": {}
      },
      "source": [
        "# To not lose trained results\n",
        "from google.colab import drive\n",
        "drive.mount('/content/drive')\n",
        "%cd /content/drive/My\\ Drive/"
      ],
      "execution_count": 0,
      "outputs": []
    },
    {
      "cell_type": "code",
      "metadata": {
        "colab_type": "code",
        "id": "E9uzmU1CfA7P",
        "colab": {}
      },
      "source": [
        "# Fetch code and install dependencies\n",
        "!git clone https://<username>:<token>@github.com/McSinyx/viwikipi.git\n",
        "%cd viwikipi/\n",
        "%pip install -r requirements.txt"
      ],
      "execution_count": 0,
      "outputs": []
    },
    {
      "cell_type": "code",
      "metadata": {
        "id": "sPJVqAKyml5W",
        "colab_type": "code",
        "colab": {}
      },
      "source": [
        "# Install dependecies for TPU\n",
        "DIST_BUCKET = \"gs://tpu-pytorch/wheels\"\n",
        "TORCH_WHEEL = \"torch-1.15-cp36-cp36m-linux_x86_64.whl\"\n",
        "TORCH_XLA_WHEEL = \"torch_xla-1.15-cp36-cp36m-linux_x86_64.whl\"\n",
        "TORCHVISION_WHEEL = \"torchvision-0.3.0-cp36-cp36m-linux_x86_64.whl\"\n",
        "\n",
        "!sudo apt-get install libomp5\n",
        "!gsutil cp $DIST_BUCKET/$TORCH_WHEEL .\n",
        "!gsutil cp $DIST_BUCKET/$TORCH_XLA_WHEEL .\n",
        "!gsutil cp $DIST_BUCKET/$TORCHVISION_WHEEL .\n",
        "%pip install $TORCHVISION_WHEEL $TORCH_WHEEL $TORCH_XLA_WHEEL"
      ],
      "execution_count": 0,
      "outputs": []
    },
    {
      "cell_type": "code",
      "metadata": {
        "id": "sOYUeiVGLXrY",
        "colab_type": "code",
        "outputId": "f0dafb66-64ad-4a4d-9475-1bc22cf20972",
        "colab": {
          "base_uri": "https://localhost:8080/",
          "height": 34
        }
      },
      "source": [
        "# Train Bert\n",
        "!python3 glue --model-type=bert --model=bert-base-multilingual-cased --output-dir=bert --log-file=bert/$(date -Is).log"
      ],
      "execution_count": 8,
      "outputs": []
    },
    {
      "cell_type": "code",
      "metadata": {
        "id": "BqdNXLWnmN_0",
        "colab_type": "code",
        "colab": {}
      },
      "source": [
        "# Train XLM (out of memory)\n",
        "!python3 glue --model-type=xlm --model=xlm-mlm-17-1280 --output-dir=xlm-mlm --log-file=xlm-mlm/$(date -Is).log"
      ],
      "execution_count": 0,
      "outputs": []
    }
  ]
}
